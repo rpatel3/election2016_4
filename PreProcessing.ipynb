{
 "cells": [
  {
   "cell_type": "code",
   "execution_count": 310,
   "metadata": {
    "collapsed": true
   },
   "outputs": [],
   "source": [
    "import pandas as pd\n",
    "import numpy as np\n",
    "import pickle"
   ]
  },
  {
   "cell_type": "code",
   "execution_count": 315,
   "metadata": {
    "collapsed": false
   },
   "outputs": [],
   "source": [
    "def group_data(g_df):\n",
    "    cols = ['bac', 'iac', 'aac', 'nac', 'wac']\n",
    "\n",
    "#     # These should be the same across the group\n",
    "#     out = g_df[base_cols].iloc[0]\n",
    "\n",
    "    tot = g_df[(g_df['Sex.id'] == 'totsex') &\n",
    "         (g_df['Hisp.id'] == 'tothisp')].iloc[0][cols]\n",
    "\n",
    "    tot = tot.rename({x: 't_'+x for x in cols})\n",
    "\n",
    "    male = g_df[(g_df['Sex.id'] == 'male') &\n",
    "         (g_df['Hisp.id'] == 'tothisp')].iloc[0][cols]\n",
    "    male = male.rename({x: 'm_'+x for x in cols})\n",
    "\n",
    "    female = g_df[(g_df['Sex.id'] == 'female') &\n",
    "         (g_df['Hisp.id'] == 'tothisp')].iloc[0][cols]\n",
    "    female = female.rename({x: 'f_'+x for x in cols})\n",
    "\n",
    "#     out = pd.concat([out, male, female])\n",
    "    out = pd.concat([male, female])\n",
    "\n",
    "\n",
    "    out['t_hisp'] = g_df[(g_df['Hisp.id'] == 'hisp') &\n",
    "         (g_df['Sex.id'] == 'totsex')][cols].iloc[0].astype(int).sum()\n",
    "    out['m_hisp'] = g_df[(g_df['Hisp.id'] == 'hisp') &\n",
    "         (g_df['Sex.id'] == 'male')][cols].iloc[0].astype(int).sum()\n",
    "    out['f_hisp'] = g_df[(g_df['Hisp.id'] == 'hisp') &\n",
    "         (g_df['Sex.id'] == 'female')][cols].iloc[0].astype(int).sum()\n",
    "\n",
    "    return out"
   ]
  },
  {
   "cell_type": "code",
   "execution_count": 316,
   "metadata": {
    "collapsed": true
   },
   "outputs": [],
   "source": [
    "def process_census_data(file_name):\n",
    "\n",
    "    df = pd.read_csv(file_name, encoding='latin')\n",
    "    # Drops the header, because it has two for some reason. Dropped becase Rochita fixed this\n",
    "#     df=df[1:]\n",
    "\n",
    "    df['fips'] = df['GEO.id2'].astype(int)\n",
    "    df['year'] = df['Year.id'].str.slice(start=4).astype(int)\n",
    "    \n",
    "    df['county_name'] = df['GEO.display-label']\n",
    "    df['state'] = df['county_name'].str.split(',').apply(lambda x: x[1].strip())\n",
    "    df['county_name'] = df['county_name'].str.split(',').apply(lambda x: x[0].strip())\n",
    "\n",
    "    df = df[(df.year == 2012) | \n",
    "            (df.year == 2015)]\n",
    "\n",
    "    groups = df.groupby(['year', 'fips', 'county_name', 'state'])   \n",
    "\n",
    "    f_df = groups.apply(group_data).reset_index()\n",
    "\n",
    "    return f_df"
   ]
  },
  {
   "cell_type": "code",
   "execution_count": 317,
   "metadata": {
    "collapsed": true
   },
   "outputs": [],
   "source": [
    "file_name = 'county_demographics.csv'"
   ]
  },
  {
   "cell_type": "code",
   "execution_count": 318,
   "metadata": {
    "collapsed": false
   },
   "outputs": [],
   "source": [
    "df = process_census_data(file_name)"
   ]
  },
  {
   "cell_type": "code",
   "execution_count": 321,
   "metadata": {
    "collapsed": true
   },
   "outputs": [],
   "source": [
    "df_det = pd.read_csv('county_facts.csv')"
   ]
  },
  {
   "cell_type": "code",
   "execution_count": 322,
   "metadata": {
    "collapsed": true
   },
   "outputs": [],
   "source": [
    "new_names = {'fips': 'fips',\n",
    "             'AGE135214': 'age < 5',\n",
    "             'AGE295214': 'age < 18',\n",
    "             'AGE775214': 'age > 65',\n",
    "             'POP715213': 'same house > 1 yr', \n",
    "             'POP645213': 'foreign_born',\n",
    "             'POP815213': 'non_english',\n",
    "             'EDU635213': '>= high school',\n",
    "             'EDU685213': '>= bachelor',\n",
    "             'VET605213': 'veterans',\n",
    "             'LFE305213': 'avg commute',\n",
    "             'HSG010214': 'housing units',\n",
    "             'HSG445213': 'homeownership rate', \n",
    "             'HSG096213': 'multiunit housing',\n",
    "             'HSG495213': 'home value',\n",
    "             'HSD410213': 'households',\n",
    "             'HSD310213': 'peeps per house', \n",
    "             'INC910213': 'income per cap',\n",
    "             'INC110213': 'household income',\n",
    "             'PVY020213': 'below poverty',\n",
    "             'BZA010213': 'nonfarm homes', \n",
    "             'BZA110213': 'nonfarm empl',\n",
    "             'BZA115213': 'nonfarm empl % change', \n",
    "             'NES010213': 'nonemployer establishments', \n",
    "             'SBO001207': 'total firms',\n",
    "             'SBO315207': 'black firms',\n",
    "             'SBO115207': 'native american firms',\n",
    "             'SBO215207': 'asian firms', \n",
    "             'SBO515207': 'hawaiian firms',\n",
    "             'SBO415207': 'hispanic firms',\n",
    "             'SBO015207': 'women firms',\n",
    "             'MAN450207': 'manufacturing shipments',\n",
    "             'WTN220207': 'merchant wholesaler sales',\n",
    "             'RTN130207': 'retail sales',\n",
    "             'RTN131207': 'retail sales per capita',\n",
    "             'AFN120207': 'service sector sales',\n",
    "             'BPS030214': 'building permits',\n",
    "             'LND110210': 'land area',\n",
    "             'POP060210': 'pop density'}"
   ]
  },
  {
   "cell_type": "code",
   "execution_count": 337,
   "metadata": {
    "collapsed": false
   },
   "outputs": [
    {
     "data": {
      "text/plain": [
       "['black firms',\n",
       " 'land area',\n",
       " '>= bachelor',\n",
       " 'hawaiian firms',\n",
       " 'total firms',\n",
       " 'native american firms',\n",
       " 'pop density',\n",
       " 'non_english',\n",
       " 'same house > 1 yr',\n",
       " 'veterans',\n",
       " 'multiunit housing',\n",
       " 'asian firms',\n",
       " 'fips',\n",
       " 'home value',\n",
       " 'nonfarm empl % change',\n",
       " 'homeownership rate',\n",
       " 'hispanic firms',\n",
       " 'nonfarm homes',\n",
       " '>= high school',\n",
       " 'retail sales',\n",
       " 'service sector sales',\n",
       " 'age > 65',\n",
       " 'merchant wholesaler sales',\n",
       " 'avg commute',\n",
       " 'nonemployer establishments',\n",
       " 'retail sales per capita',\n",
       " 'foreign_born',\n",
       " 'peeps per house',\n",
       " 'households',\n",
       " 'age < 18',\n",
       " 'building permits',\n",
       " 'nonfarm empl',\n",
       " 'manufacturing shipments',\n",
       " 'income per cap',\n",
       " 'below poverty',\n",
       " 'age < 5',\n",
       " 'housing units',\n",
       " 'women firms',\n",
       " 'household income']"
      ]
     },
     "execution_count": 337,
     "metadata": {},
     "output_type": "execute_result"
    }
   ],
   "source": [
    "list(new_names.values())"
   ]
  },
  {
   "cell_type": "code",
   "execution_count": 323,
   "metadata": {
    "collapsed": false
   },
   "outputs": [],
   "source": [
    "df_det = df_det[list(new_names.keys())].rename(columns=new_names)"
   ]
  },
  {
   "cell_type": "code",
   "execution_count": 324,
   "metadata": {
    "collapsed": true
   },
   "outputs": [],
   "source": [
    "# df_det_dict = pd.read_csv('county_facts_dictionary.csv')"
   ]
  },
  {
   "cell_type": "code",
   "execution_count": 325,
   "metadata": {
    "collapsed": false
   },
   "outputs": [],
   "source": [
    "df = df.merge(df_det, how='left', on='fips')"
   ]
  },
  {
   "cell_type": "code",
   "execution_count": 326,
   "metadata": {
    "collapsed": true
   },
   "outputs": [],
   "source": [
    "df = df[df.state != 'Alaska']"
   ]
  },
  {
   "cell_type": "code",
   "execution_count": 327,
   "metadata": {
    "collapsed": false
   },
   "outputs": [],
   "source": [
    "df.loc[df.year == 2015, 'year'] = 2016"
   ]
  },
  {
   "cell_type": "code",
   "execution_count": 328,
   "metadata": {
    "collapsed": true
   },
   "outputs": [],
   "source": [
    "df_voting = pd.read_csv('US_County_Level_Presidential_Results_12-16.csv')"
   ]
  },
  {
   "cell_type": "code",
   "execution_count": 329,
   "metadata": {
    "collapsed": false
   },
   "outputs": [],
   "source": [
    "df_voting = df_voting[df_voting.state_abbr != 'AK']"
   ]
  },
  {
   "cell_type": "code",
   "execution_count": 330,
   "metadata": {
    "collapsed": false
   },
   "outputs": [],
   "source": [
    "# This county got renamed\n",
    "df_voting.loc[df_voting.FIPS == 46113, 'FIPS'] = 46102\n",
    "# This county is only accessible by mule trail. Thanks wikipedia\n",
    "df = df[df.fips != 15005]"
   ]
  },
  {
   "cell_type": "code",
   "execution_count": 331,
   "metadata": {
    "collapsed": false
   },
   "outputs": [],
   "source": [
    "cols_12 = {'FIPS': 'fips', \n",
    "           'votes_dem_2012': 'votes_dem',\n",
    "           'votes_gop_2012': 'votes_rep',\n",
    "           'total_votes_2012': 'total_votes'\n",
    "}\n",
    "df_12 = df_voting.loc[pd.notnull(df_voting.total_votes_2012), list(cols_12.keys())].rename(columns=cols_12)\n",
    "df_12['year'] = 2012\n",
    "\n",
    "cols_16 = {'FIPS': 'fips', \n",
    "           'votes_dem_2016': 'votes_dem',\n",
    "           'votes_gop_2016': 'votes_rep',\n",
    "           'total_votes_2016': 'total_votes'\n",
    "\n",
    "}\n",
    "df_16 = df_voting.loc[pd.notnull(df_voting.total_votes_2016), list(cols_16.keys())].rename(columns=cols_16)\n",
    "df_16['year'] = 2016\n"
   ]
  },
  {
   "cell_type": "code",
   "execution_count": 332,
   "metadata": {
    "collapsed": false
   },
   "outputs": [],
   "source": [
    "df_voting = pd.concat([df_12, df_16])"
   ]
  },
  {
   "cell_type": "code",
   "execution_count": 333,
   "metadata": {
    "collapsed": false
   },
   "outputs": [],
   "source": [
    "df = df.merge(df_voting, on=['fips', 'year'], how='left')"
   ]
  },
  {
   "cell_type": "code",
   "execution_count": 334,
   "metadata": {
    "collapsed": true
   },
   "outputs": [],
   "source": [
    "df.to_csv('processed_data.csv', index=False)"
   ]
  }
 ],
 "metadata": {
  "kernelspec": {
   "display_name": "Python 3",
   "language": "python",
   "name": "python3"
  },
  "language_info": {
   "codemirror_mode": {
    "name": "ipython",
    "version": 3
   },
   "file_extension": ".py",
   "mimetype": "text/x-python",
   "name": "python",
   "nbconvert_exporter": "python",
   "pygments_lexer": "ipython3",
   "version": "3.5.2"
  }
 },
 "nbformat": 4,
 "nbformat_minor": 1
}
